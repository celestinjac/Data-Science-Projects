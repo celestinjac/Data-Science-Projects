{
 "cells": [
  {
   "cell_type": "code",
   "execution_count": 3,
   "id": "ee226acb",
   "metadata": {},
   "outputs": [],
   "source": [
    "import pandas as pd \n",
    "\n",
    "from sklearn.datasets import load_boston \n",
    "\n",
    "from sklearn.model_selection import train_test_split, GridSearchCV, RandomizedSearchCV\n",
    "\n",
    "from sklearn.linear_model import LinearRegression, Lasso, Ridge\n",
    "\n",
    "from sklearn.metrics import mean_squared_error\n",
    "\n",
    "import warnings\n",
    "warnings.filterwarnings(\"ignore\")"
   ]
  },
  {
   "cell_type": "code",
   "execution_count": 4,
   "id": "5718da72",
   "metadata": {},
   "outputs": [],
   "source": [
    "boston = load_boston()"
   ]
  },
  {
   "cell_type": "code",
   "execution_count": 5,
   "id": "d4cc14ca",
   "metadata": {},
   "outputs": [],
   "source": [
    "df = pd.DataFrame(data= boston.data, columns= boston.feature_names)"
   ]
  },
  {
   "cell_type": "code",
   "execution_count": 6,
   "id": "2e7f2ef1",
   "metadata": {},
   "outputs": [
    {
     "data": {
      "text/html": [
       "<div>\n",
       "<style scoped>\n",
       "    .dataframe tbody tr th:only-of-type {\n",
       "        vertical-align: middle;\n",
       "    }\n",
       "\n",
       "    .dataframe tbody tr th {\n",
       "        vertical-align: top;\n",
       "    }\n",
       "\n",
       "    .dataframe thead th {\n",
       "        text-align: right;\n",
       "    }\n",
       "</style>\n",
       "<table border=\"1\" class=\"dataframe\">\n",
       "  <thead>\n",
       "    <tr style=\"text-align: right;\">\n",
       "      <th></th>\n",
       "      <th>CRIM</th>\n",
       "      <th>ZN</th>\n",
       "      <th>INDUS</th>\n",
       "      <th>CHAS</th>\n",
       "      <th>NOX</th>\n",
       "      <th>RM</th>\n",
       "      <th>AGE</th>\n",
       "      <th>DIS</th>\n",
       "      <th>RAD</th>\n",
       "      <th>TAX</th>\n",
       "      <th>PTRATIO</th>\n",
       "      <th>B</th>\n",
       "      <th>LSTAT</th>\n",
       "    </tr>\n",
       "  </thead>\n",
       "  <tbody>\n",
       "    <tr>\n",
       "      <th>0</th>\n",
       "      <td>0.00632</td>\n",
       "      <td>18.0</td>\n",
       "      <td>2.31</td>\n",
       "      <td>0.0</td>\n",
       "      <td>0.538</td>\n",
       "      <td>6.575</td>\n",
       "      <td>65.2</td>\n",
       "      <td>4.0900</td>\n",
       "      <td>1.0</td>\n",
       "      <td>296.0</td>\n",
       "      <td>15.3</td>\n",
       "      <td>396.90</td>\n",
       "      <td>4.98</td>\n",
       "    </tr>\n",
       "    <tr>\n",
       "      <th>1</th>\n",
       "      <td>0.02731</td>\n",
       "      <td>0.0</td>\n",
       "      <td>7.07</td>\n",
       "      <td>0.0</td>\n",
       "      <td>0.469</td>\n",
       "      <td>6.421</td>\n",
       "      <td>78.9</td>\n",
       "      <td>4.9671</td>\n",
       "      <td>2.0</td>\n",
       "      <td>242.0</td>\n",
       "      <td>17.8</td>\n",
       "      <td>396.90</td>\n",
       "      <td>9.14</td>\n",
       "    </tr>\n",
       "    <tr>\n",
       "      <th>2</th>\n",
       "      <td>0.02729</td>\n",
       "      <td>0.0</td>\n",
       "      <td>7.07</td>\n",
       "      <td>0.0</td>\n",
       "      <td>0.469</td>\n",
       "      <td>7.185</td>\n",
       "      <td>61.1</td>\n",
       "      <td>4.9671</td>\n",
       "      <td>2.0</td>\n",
       "      <td>242.0</td>\n",
       "      <td>17.8</td>\n",
       "      <td>392.83</td>\n",
       "      <td>4.03</td>\n",
       "    </tr>\n",
       "    <tr>\n",
       "      <th>3</th>\n",
       "      <td>0.03237</td>\n",
       "      <td>0.0</td>\n",
       "      <td>2.18</td>\n",
       "      <td>0.0</td>\n",
       "      <td>0.458</td>\n",
       "      <td>6.998</td>\n",
       "      <td>45.8</td>\n",
       "      <td>6.0622</td>\n",
       "      <td>3.0</td>\n",
       "      <td>222.0</td>\n",
       "      <td>18.7</td>\n",
       "      <td>394.63</td>\n",
       "      <td>2.94</td>\n",
       "    </tr>\n",
       "    <tr>\n",
       "      <th>4</th>\n",
       "      <td>0.06905</td>\n",
       "      <td>0.0</td>\n",
       "      <td>2.18</td>\n",
       "      <td>0.0</td>\n",
       "      <td>0.458</td>\n",
       "      <td>7.147</td>\n",
       "      <td>54.2</td>\n",
       "      <td>6.0622</td>\n",
       "      <td>3.0</td>\n",
       "      <td>222.0</td>\n",
       "      <td>18.7</td>\n",
       "      <td>396.90</td>\n",
       "      <td>5.33</td>\n",
       "    </tr>\n",
       "  </tbody>\n",
       "</table>\n",
       "</div>"
      ],
      "text/plain": [
       "      CRIM    ZN  INDUS  CHAS    NOX     RM   AGE     DIS  RAD    TAX  \\\n",
       "0  0.00632  18.0   2.31   0.0  0.538  6.575  65.2  4.0900  1.0  296.0   \n",
       "1  0.02731   0.0   7.07   0.0  0.469  6.421  78.9  4.9671  2.0  242.0   \n",
       "2  0.02729   0.0   7.07   0.0  0.469  7.185  61.1  4.9671  2.0  242.0   \n",
       "3  0.03237   0.0   2.18   0.0  0.458  6.998  45.8  6.0622  3.0  222.0   \n",
       "4  0.06905   0.0   2.18   0.0  0.458  7.147  54.2  6.0622  3.0  222.0   \n",
       "\n",
       "   PTRATIO       B  LSTAT  \n",
       "0     15.3  396.90   4.98  \n",
       "1     17.8  396.90   9.14  \n",
       "2     17.8  392.83   4.03  \n",
       "3     18.7  394.63   2.94  \n",
       "4     18.7  396.90   5.33  "
      ]
     },
     "execution_count": 6,
     "metadata": {},
     "output_type": "execute_result"
    }
   ],
   "source": [
    "df.head()"
   ]
  },
  {
   "cell_type": "code",
   "execution_count": 7,
   "id": "db3e0b5d",
   "metadata": {},
   "outputs": [],
   "source": [
    "y = pd.DataFrame(data= boston.target, columns= [\"Prices\"])"
   ]
  },
  {
   "cell_type": "code",
   "execution_count": 8,
   "id": "e3c3ecef",
   "metadata": {},
   "outputs": [
    {
     "data": {
      "text/html": [
       "<div>\n",
       "<style scoped>\n",
       "    .dataframe tbody tr th:only-of-type {\n",
       "        vertical-align: middle;\n",
       "    }\n",
       "\n",
       "    .dataframe tbody tr th {\n",
       "        vertical-align: top;\n",
       "    }\n",
       "\n",
       "    .dataframe thead th {\n",
       "        text-align: right;\n",
       "    }\n",
       "</style>\n",
       "<table border=\"1\" class=\"dataframe\">\n",
       "  <thead>\n",
       "    <tr style=\"text-align: right;\">\n",
       "      <th></th>\n",
       "      <th>Prices</th>\n",
       "    </tr>\n",
       "  </thead>\n",
       "  <tbody>\n",
       "    <tr>\n",
       "      <th>0</th>\n",
       "      <td>24.0</td>\n",
       "    </tr>\n",
       "    <tr>\n",
       "      <th>1</th>\n",
       "      <td>21.6</td>\n",
       "    </tr>\n",
       "    <tr>\n",
       "      <th>2</th>\n",
       "      <td>34.7</td>\n",
       "    </tr>\n",
       "    <tr>\n",
       "      <th>3</th>\n",
       "      <td>33.4</td>\n",
       "    </tr>\n",
       "    <tr>\n",
       "      <th>4</th>\n",
       "      <td>36.2</td>\n",
       "    </tr>\n",
       "  </tbody>\n",
       "</table>\n",
       "</div>"
      ],
      "text/plain": [
       "   Prices\n",
       "0    24.0\n",
       "1    21.6\n",
       "2    34.7\n",
       "3    33.4\n",
       "4    36.2"
      ]
     },
     "execution_count": 8,
     "metadata": {},
     "output_type": "execute_result"
    }
   ],
   "source": [
    "y.head()"
   ]
  },
  {
   "cell_type": "code",
   "execution_count": 9,
   "id": "45b731be",
   "metadata": {},
   "outputs": [],
   "source": [
    "#Train test split\n",
    "\n",
    "X_train,X_test,y_train,y_test = train_test_split(df,y, test_size=0.2, random_state= 5)"
   ]
  },
  {
   "cell_type": "code",
   "execution_count": 10,
   "id": "c6c57cf6",
   "metadata": {},
   "outputs": [
    {
     "data": {
      "text/plain": [
       "(404, 13)"
      ]
     },
     "execution_count": 10,
     "metadata": {},
     "output_type": "execute_result"
    }
   ],
   "source": [
    "X_train.shape"
   ]
  },
  {
   "cell_type": "code",
   "execution_count": 11,
   "id": "3e13ea23",
   "metadata": {},
   "outputs": [
    {
     "data": {
      "text/plain": [
       "(102, 13)"
      ]
     },
     "execution_count": 11,
     "metadata": {},
     "output_type": "execute_result"
    }
   ],
   "source": [
    "X_test.shape "
   ]
  },
  {
   "cell_type": "code",
   "execution_count": 12,
   "id": "67b4880c",
   "metadata": {},
   "outputs": [
    {
     "data": {
      "text/plain": [
       "LinearRegression()"
      ]
     },
     "execution_count": 12,
     "metadata": {},
     "output_type": "execute_result"
    }
   ],
   "source": [
    "#Linear regression\n",
    "lr = LinearRegression()\n",
    "lr.fit(X_train,y_train)"
   ]
  },
  {
   "cell_type": "code",
   "execution_count": 13,
   "id": "1a81d46c",
   "metadata": {},
   "outputs": [],
   "source": [
    "lr_pred = lr.predict(X_test)"
   ]
  },
  {
   "cell_type": "code",
   "execution_count": 14,
   "id": "2e20c8a0",
   "metadata": {},
   "outputs": [
    {
     "data": {
      "text/plain": [
       "20.869292183770693"
      ]
     },
     "execution_count": 14,
     "metadata": {},
     "output_type": "execute_result"
    }
   ],
   "source": [
    "mean_squared_error(y_test,lr_pred)"
   ]
  },
  {
   "cell_type": "code",
   "execution_count": 15,
   "id": "46e3e885",
   "metadata": {},
   "outputs": [
    {
     "data": {
      "text/plain": [
       "Lasso(random_state=5)"
      ]
     },
     "execution_count": 15,
     "metadata": {},
     "output_type": "execute_result"
    }
   ],
   "source": [
    "#Lasso regression\n",
    "\n",
    "ls = Lasso(random_state=5)\n",
    "ls.fit(X_train,y_train)"
   ]
  },
  {
   "cell_type": "code",
   "execution_count": 16,
   "id": "108c7bba",
   "metadata": {},
   "outputs": [],
   "source": [
    "ls_pred = ls.predict(X_test)"
   ]
  },
  {
   "cell_type": "code",
   "execution_count": 17,
   "id": "3cd0a2ff",
   "metadata": {},
   "outputs": [
    {
     "data": {
      "text/plain": [
       "29.355825654837457"
      ]
     },
     "execution_count": 17,
     "metadata": {},
     "output_type": "execute_result"
    }
   ],
   "source": [
    "mean_squared_error(y_test,ls_pred)"
   ]
  },
  {
   "cell_type": "code",
   "execution_count": 18,
   "id": "23e71f9d",
   "metadata": {},
   "outputs": [
    {
     "data": {
      "text/plain": [
       "Ridge(random_state=5)"
      ]
     },
     "execution_count": 18,
     "metadata": {},
     "output_type": "execute_result"
    }
   ],
   "source": [
    "ri = Ridge(random_state=5) \n",
    "ri.fit(X_train,y_train)"
   ]
  },
  {
   "cell_type": "code",
   "execution_count": 19,
   "id": "fbbcd454",
   "metadata": {},
   "outputs": [],
   "source": [
    "ri_pred = ri.predict(X_test)"
   ]
  },
  {
   "cell_type": "code",
   "execution_count": 20,
   "id": "d6f0a23d",
   "metadata": {},
   "outputs": [
    {
     "data": {
      "text/plain": [
       "21.599270335618815"
      ]
     },
     "execution_count": 20,
     "metadata": {},
     "output_type": "execute_result"
    }
   ],
   "source": [
    "mean_squared_error(y_test,ri_pred)"
   ]
  },
  {
   "cell_type": "markdown",
   "id": "1b156391",
   "metadata": {},
   "source": [
    "# Running a loop to get the best value of alpha( manual hyper parameter tuning)"
   ]
  },
  {
   "cell_type": "code",
   "execution_count": 21,
   "id": "a2d624f6",
   "metadata": {},
   "outputs": [
    {
     "name": "stdout",
     "output_type": "stream",
     "text": [
      "The parameter 0 gives msc as: 20.86929218377083\n",
      "The parameter 1 gives msc as: 21.599270335618815\n",
      "The parameter 2 gives msc as: 22.00347356374795\n",
      "The parameter 3 gives msc as: 22.256079073049378\n",
      "The parameter 4 gives msc as: 22.434524727015386\n",
      "The parameter 5 gives msc as: 22.571780794679242\n",
      "The parameter 6 gives msc as: 22.683861730544898\n",
      "The parameter 7 gives msc as: 22.779411492271592\n",
      "The parameter 8 gives msc as: 22.863485481528624\n",
      "The parameter 9 gives msc as: 22.939230195609827\n",
      "The parameter 10 gives msc as: 23.008703526611203\n"
     ]
    }
   ],
   "source": [
    "#Check the accuracy/error for different alpha value\n",
    "\n",
    "for i in range(11):\n",
    "    rd = Ridge(alpha= i)\n",
    "    rd.fit(X_train,y_train)\n",
    "    rd_pred = rd.predict(X_test)\n",
    "    print(f\"The parameter {i} gives msc as: {mean_squared_error(y_test,rd_pred)}\")"
   ]
  },
  {
   "cell_type": "code",
   "execution_count": 22,
   "id": "05b01cba",
   "metadata": {},
   "outputs": [
    {
     "name": "stdout",
     "output_type": "stream",
     "text": [
      "The parameter 0.1 gives msc as: 20.95972224078447\n",
      "The parameter 0.2 gives msc as: 21.047962670253064\n",
      "The parameter 0.3 gives msc as: 21.132396681920106\n",
      "The parameter 0.4 gives msc as: 21.212330953063038\n",
      "The parameter 0.5 gives msc as: 21.287569974220304\n",
      "The parameter 0.6 gives msc as: 21.358183991207532\n",
      "The parameter 0.7 gives msc as: 21.42438005542595\n",
      "The parameter 0.8 gives msc as: 21.486429592052414\n",
      "The parameter 0.9 gives msc as: 21.54462766576291\n",
      "The parameter 1 gives msc as: 21.599270335618815\n"
     ]
    }
   ],
   "source": [
    "param = [0.1,0.2,0.3,0.4,0.5,0.6,0.7,0.8,0.9,1]\n",
    "for i in param:\n",
    "    rd = Ridge(alpha= i)\n",
    "    rd.fit(X_train,y_train)\n",
    "    rd_pred = rd.predict(X_test)\n",
    "    print(f\"The parameter {i} gives msc as: {mean_squared_error(y_test,rd_pred)}\")"
   ]
  },
  {
   "cell_type": "code",
   "execution_count": 23,
   "id": "7edf3ebf",
   "metadata": {},
   "outputs": [
    {
     "name": "stdout",
     "output_type": "stream",
     "text": [
      "The parameter 0 gives msc as: 20.869292183770852\n",
      "The parameter 1 gives msc as: 29.355825654837457\n",
      "The parameter 2 gives msc as: 32.80270612783236\n",
      "The parameter 3 gives msc as: 33.97232940022085\n",
      "The parameter 4 gives msc as: 35.6630651895069\n",
      "The parameter 5 gives msc as: 35.82717060772347\n",
      "The parameter 6 gives msc as: 35.929962281221016\n",
      "The parameter 7 gives msc as: 36.13520526009719\n",
      "The parameter 8 gives msc as: 36.441659525773446\n",
      "The parameter 9 gives msc as: 36.84996887359565\n",
      "The parameter 10 gives msc as: 37.12982310817989\n"
     ]
    }
   ],
   "source": [
    "for i in range(11):\n",
    "    rd = Lasso(alpha= i)\n",
    "    rd.fit(X_train,y_train)\n",
    "    rd_pred = rd.predict(X_test)\n",
    "    print(f\"The parameter {i} gives msc as: {mean_squared_error(y_test,rd_pred)}\")"
   ]
  },
  {
   "cell_type": "code",
   "execution_count": 24,
   "id": "e26249e3",
   "metadata": {},
   "outputs": [],
   "source": [
    "#Grid search CV\n",
    "\n",
    "ls = Lasso()\n",
    "rd = Ridge()\n",
    "param = {\"alpha\": [1e-15,1e-13,1e-11,1e-9,1e-7,1e-5,1e-3,1e-1,0,1,2,3,4,5,6,7,8,9,10,20,30,40,50,60,70,80,90,100,200,300,400,500]}\n",
    "model_rd = GridSearchCV(estimator=rd, param_grid=param, cv=10)"
   ]
  },
  {
   "cell_type": "code",
   "execution_count": 25,
   "id": "f60ea710",
   "metadata": {},
   "outputs": [
    {
     "data": {
      "text/plain": [
       "GridSearchCV(cv=10, estimator=Ridge(),\n",
       "             param_grid={'alpha': [1e-15, 1e-13, 1e-11, 1e-09, 1e-07, 1e-05,\n",
       "                                   0.001, 0.1, 0, 1, 2, 3, 4, 5, 6, 7, 8, 9, 10,\n",
       "                                   20, 30, 40, 50, 60, 70, 80, 90, 100, 200,\n",
       "                                   300, ...]})"
      ]
     },
     "execution_count": 25,
     "metadata": {},
     "output_type": "execute_result"
    }
   ],
   "source": [
    "model_rd.fit(df,y)"
   ]
  },
  {
   "cell_type": "code",
   "execution_count": 26,
   "id": "89d9b687",
   "metadata": {},
   "outputs": [
    {
     "data": {
      "text/plain": [
       "{'alpha': 40}"
      ]
     },
     "execution_count": 26,
     "metadata": {},
     "output_type": "execute_result"
    }
   ],
   "source": [
    "model_rd.best_params_"
   ]
  },
  {
   "cell_type": "code",
   "execution_count": 27,
   "id": "187f5a2b",
   "metadata": {},
   "outputs": [
    {
     "name": "stdout",
     "output_type": "stream",
     "text": [
      "The parameter 10 gives msc as: 24.284201840204577\n"
     ]
    }
   ],
   "source": [
    "rd = Ridge(alpha= 40)\n",
    "rd.fit(X_train,y_train)\n",
    "rd_pred = rd.predict(X_test)\n",
    "print(f\"The parameter {i} gives msc as: {mean_squared_error(y_test,rd_pred)}\")"
   ]
  },
  {
   "cell_type": "code",
   "execution_count": 28,
   "id": "7a22864d",
   "metadata": {},
   "outputs": [],
   "source": [
    "model_ls = GridSearchCV(estimator=ls, param_grid=param, cv=10)"
   ]
  },
  {
   "cell_type": "code",
   "execution_count": 29,
   "id": "b37765b5",
   "metadata": {},
   "outputs": [
    {
     "data": {
      "text/plain": [
       "GridSearchCV(cv=10, estimator=Lasso(),\n",
       "             param_grid={'alpha': [1e-15, 1e-13, 1e-11, 1e-09, 1e-07, 1e-05,\n",
       "                                   0.001, 0.1, 0, 1, 2, 3, 4, 5, 6, 7, 8, 9, 10,\n",
       "                                   20, 30, 40, 50, 60, 70, 80, 90, 100, 200,\n",
       "                                   300, ...]})"
      ]
     },
     "execution_count": 29,
     "metadata": {},
     "output_type": "execute_result"
    }
   ],
   "source": [
    "model_ls.fit(df,y)"
   ]
  },
  {
   "cell_type": "code",
   "execution_count": 30,
   "id": "5a89cf81",
   "metadata": {},
   "outputs": [
    {
     "data": {
      "text/plain": [
       "{'alpha': 0.1}"
      ]
     },
     "execution_count": 30,
     "metadata": {},
     "output_type": "execute_result"
    }
   ],
   "source": [
    "model_ls.best_params_"
   ]
  },
  {
   "cell_type": "code",
   "execution_count": 31,
   "id": "e2689166",
   "metadata": {},
   "outputs": [
    {
     "name": "stdout",
     "output_type": "stream",
     "text": [
      "The parameter 0.1 gives msc as: 23.406364231568215\n"
     ]
    }
   ],
   "source": [
    "ls = Lasso(alpha= 0.1)\n",
    "ls.fit(X_train,y_train)\n",
    "ls_pred = ls.predict(X_test)\n",
    "print(f\"The parameter 0.1 gives msc as: {mean_squared_error(y_test,ls_pred)}\")"
   ]
  },
  {
   "cell_type": "code",
   "execution_count": 41,
   "id": "2833fd48",
   "metadata": {},
   "outputs": [],
   "source": [
    "#Random Search CV\n",
    "\n",
    "las = Lasso()\n",
    "rid = Ridge()\n",
    "param = {\"alpha\": [1e-15,1e-13,1e-11,1e-9,1e-7,1e-5,1e-3,1e-1,0,1,2,3,4,5,6,7,8,9,10,20,30,40,50,60,70,80,90,100,200,300,400,500]}\n",
    "model_rid = RandomizedSearchCV(estimator= rid, param_distributions= param, cv= 10)"
   ]
  },
  {
   "cell_type": "code",
   "execution_count": 42,
   "id": "548c9901",
   "metadata": {},
   "outputs": [
    {
     "data": {
      "text/plain": [
       "RandomizedSearchCV(cv=10, estimator=Ridge(),\n",
       "                   param_distributions={'alpha': [1e-15, 1e-13, 1e-11, 1e-09,\n",
       "                                                  1e-07, 1e-05, 0.001, 0.1, 0,\n",
       "                                                  1, 2, 3, 4, 5, 6, 7, 8, 9, 10,\n",
       "                                                  20, 30, 40, 50, 60, 70, 80,\n",
       "                                                  90, 100, 200, 300, ...]})"
      ]
     },
     "execution_count": 42,
     "metadata": {},
     "output_type": "execute_result"
    }
   ],
   "source": [
    "model_rid.fit(df,y)"
   ]
  },
  {
   "cell_type": "code",
   "execution_count": 43,
   "id": "af51da47",
   "metadata": {},
   "outputs": [
    {
     "data": {
      "text/plain": [
       "{'alpha': 70}"
      ]
     },
     "execution_count": 43,
     "metadata": {},
     "output_type": "execute_result"
    }
   ],
   "source": [
    "model_rid.best_params_"
   ]
  },
  {
   "cell_type": "code",
   "execution_count": 44,
   "id": "2c96cf8f",
   "metadata": {},
   "outputs": [
    {
     "data": {
      "text/plain": [
       "25.10203839535706"
      ]
     },
     "execution_count": 44,
     "metadata": {},
     "output_type": "execute_result"
    }
   ],
   "source": [
    "ridd = Ridge(alpha=70)\n",
    "ridd.fit(X_train,y_train)\n",
    "ridd_pred = ridd.predict(X_test)\n",
    "mean_squared_error(y_test,ridd_pred)"
   ]
  },
  {
   "cell_type": "code",
   "execution_count": 46,
   "id": "1c70c73d",
   "metadata": {},
   "outputs": [],
   "source": [
    "model_lass = RandomizedSearchCV(estimator= las, param_distributions= param, cv= 10)"
   ]
  },
  {
   "cell_type": "code",
   "execution_count": 49,
   "id": "926b6ab4",
   "metadata": {},
   "outputs": [
    {
     "data": {
      "text/plain": [
       "RandomizedSearchCV(cv=10, estimator=Lasso(),\n",
       "                   param_distributions={'alpha': [1e-15, 1e-13, 1e-11, 1e-09,\n",
       "                                                  1e-07, 1e-05, 0.001, 0.1, 0,\n",
       "                                                  1, 2, 3, 4, 5, 6, 7, 8, 9, 10,\n",
       "                                                  20, 30, 40, 50, 60, 70, 80,\n",
       "                                                  90, 100, 200, 300, ...]})"
      ]
     },
     "execution_count": 49,
     "metadata": {},
     "output_type": "execute_result"
    }
   ],
   "source": [
    "model_lass.fit(df,y)"
   ]
  },
  {
   "cell_type": "code",
   "execution_count": 50,
   "id": "79e6cd90",
   "metadata": {},
   "outputs": [
    {
     "data": {
      "text/plain": [
       "{'alpha': 0.1}"
      ]
     },
     "execution_count": 50,
     "metadata": {},
     "output_type": "execute_result"
    }
   ],
   "source": [
    "model_lass.best_params_"
   ]
  },
  {
   "cell_type": "code",
   "execution_count": 52,
   "id": "b3c502cf",
   "metadata": {},
   "outputs": [
    {
     "data": {
      "text/plain": [
       "23.406364231568215"
      ]
     },
     "execution_count": 52,
     "metadata": {},
     "output_type": "execute_result"
    }
   ],
   "source": [
    "lassss = Lasso(alpha=0.1)\n",
    "lassss.fit(X_train,y_train)\n",
    "lassss_pred = lassss.predict(X_test)\n",
    "mean_squared_error(y_test,lassss_pred)"
   ]
  },
  {
   "cell_type": "code",
   "execution_count": null,
   "id": "38c3af92",
   "metadata": {},
   "outputs": [],
   "source": []
  }
 ],
 "metadata": {
  "kernelspec": {
   "display_name": "Python 3 (ipykernel)",
   "language": "python",
   "name": "python3"
  },
  "language_info": {
   "codemirror_mode": {
    "name": "ipython",
    "version": 3
   },
   "file_extension": ".py",
   "mimetype": "text/x-python",
   "name": "python",
   "nbconvert_exporter": "python",
   "pygments_lexer": "ipython3",
   "version": "3.9.7"
  }
 },
 "nbformat": 4,
 "nbformat_minor": 5
}
