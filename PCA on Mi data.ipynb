{
 "cells": [
  {
   "cell_type": "code",
   "execution_count": 48,
   "id": "0a2e94f5",
   "metadata": {},
   "outputs": [],
   "source": [
    "import pandas as pd \n",
    "import numpy as np \n",
    "\n",
    "from sklearn.preprocessing import LabelEncoder, StandardScaler\n",
    "\n",
    "from sklearn.decomposition import PCA\n",
    "\n",
    "from sklearn.model_selection import train_test_split\n",
    "\n",
    "from sklearn.linear_model import LinearRegression\n",
    "\n",
    "from sklearn.metrics import accuracy_score"
   ]
  },
  {
   "cell_type": "code",
   "execution_count": 2,
   "id": "5c4e40ec",
   "metadata": {},
   "outputs": [],
   "source": [
    "df = pd.read_excel(\"Mi raw data.xlsx\")"
   ]
  },
  {
   "cell_type": "code",
   "execution_count": 3,
   "id": "ea67530e",
   "metadata": {},
   "outputs": [
    {
     "data": {
      "text/html": [
       "<div>\n",
       "<style scoped>\n",
       "    .dataframe tbody tr th:only-of-type {\n",
       "        vertical-align: middle;\n",
       "    }\n",
       "\n",
       "    .dataframe tbody tr th {\n",
       "        vertical-align: top;\n",
       "    }\n",
       "\n",
       "    .dataframe thead th {\n",
       "        text-align: right;\n",
       "    }\n",
       "</style>\n",
       "<table border=\"1\" class=\"dataframe\">\n",
       "  <thead>\n",
       "    <tr style=\"text-align: right;\">\n",
       "      <th></th>\n",
       "      <th>Customer ID</th>\n",
       "      <th>Day</th>\n",
       "      <th>Browser</th>\n",
       "      <th>No. of Clicks</th>\n",
       "      <th>Pages Viewed</th>\n",
       "      <th>Time (min)</th>\n",
       "      <th>Amount Spent (Rs.)</th>\n",
       "      <th>Unnamed: 7</th>\n",
       "      <th>Unnamed: 8</th>\n",
       "    </tr>\n",
       "  </thead>\n",
       "  <tbody>\n",
       "    <tr>\n",
       "      <th>0</th>\n",
       "      <td>1</td>\n",
       "      <td>Monday</td>\n",
       "      <td>Chrome</td>\n",
       "      <td>13</td>\n",
       "      <td>4</td>\n",
       "      <td>8.5</td>\n",
       "      <td>2668.0</td>\n",
       "      <td>NaN</td>\n",
       "      <td>NaN</td>\n",
       "    </tr>\n",
       "    <tr>\n",
       "      <th>1</th>\n",
       "      <td>2</td>\n",
       "      <td>Saturday</td>\n",
       "      <td>Chrome</td>\n",
       "      <td>15</td>\n",
       "      <td>5</td>\n",
       "      <td>16.9</td>\n",
       "      <td>3469.0</td>\n",
       "      <td>NaN</td>\n",
       "      <td>NaN</td>\n",
       "    </tr>\n",
       "    <tr>\n",
       "      <th>2</th>\n",
       "      <td>3</td>\n",
       "      <td>Monday</td>\n",
       "      <td>Internet Explorer</td>\n",
       "      <td>20</td>\n",
       "      <td>6</td>\n",
       "      <td>7.3</td>\n",
       "      <td>5215.0</td>\n",
       "      <td>NaN</td>\n",
       "      <td>NaN</td>\n",
       "    </tr>\n",
       "    <tr>\n",
       "      <th>3</th>\n",
       "      <td>4</td>\n",
       "      <td>Monday</td>\n",
       "      <td>Chrome</td>\n",
       "      <td>42</td>\n",
       "      <td>6</td>\n",
       "      <td>30.1</td>\n",
       "      <td>10423.0</td>\n",
       "      <td>NaN</td>\n",
       "      <td>NaN</td>\n",
       "    </tr>\n",
       "    <tr>\n",
       "      <th>4</th>\n",
       "      <td>5</td>\n",
       "      <td>Saturday</td>\n",
       "      <td>Internet Explorer</td>\n",
       "      <td>20</td>\n",
       "      <td>6</td>\n",
       "      <td>13.3</td>\n",
       "      <td>5404.0</td>\n",
       "      <td>NaN</td>\n",
       "      <td>NaN</td>\n",
       "    </tr>\n",
       "  </tbody>\n",
       "</table>\n",
       "</div>"
      ],
      "text/plain": [
       "   Customer ID       Day            Browser  No. of Clicks  Pages Viewed  \\\n",
       "0            1    Monday             Chrome             13             4   \n",
       "1            2  Saturday             Chrome             15             5   \n",
       "2            3    Monday  Internet Explorer             20             6   \n",
       "3            4    Monday             Chrome             42             6   \n",
       "4            5  Saturday  Internet Explorer             20             6   \n",
       "\n",
       "   Time (min)  Amount Spent (Rs.)  Unnamed: 7 Unnamed: 8  \n",
       "0         8.5              2668.0         NaN        NaN  \n",
       "1        16.9              3469.0         NaN        NaN  \n",
       "2         7.3              5215.0         NaN        NaN  \n",
       "3        30.1             10423.0         NaN        NaN  \n",
       "4        13.3              5404.0         NaN        NaN  "
      ]
     },
     "execution_count": 3,
     "metadata": {},
     "output_type": "execute_result"
    }
   ],
   "source": [
    "df.head()"
   ]
  },
  {
   "cell_type": "code",
   "execution_count": 5,
   "id": "c23c9c60",
   "metadata": {},
   "outputs": [],
   "source": [
    "df.drop([\"Customer ID\",\"Unnamed: 7\",\"Unnamed: 8\"],axis=1,inplace=True)"
   ]
  },
  {
   "cell_type": "code",
   "execution_count": 7,
   "id": "cdf2f2d8",
   "metadata": {},
   "outputs": [],
   "source": [
    "le = LabelEncoder()\n",
    "df[\"Day\"] = le.fit_transform(df[\"Day\"])\n",
    "df[\"Browser\"] = le.fit_transform(df[\"Browser\"])"
   ]
  },
  {
   "cell_type": "code",
   "execution_count": 38,
   "id": "6fadce3c",
   "metadata": {},
   "outputs": [],
   "source": [
    "X = df.drop(\"Amount Spent (Rs.)\",axis=1)\n",
    "y= df[[\"Amount Spent (Rs.)\"]]"
   ]
  },
  {
   "cell_type": "code",
   "execution_count": 12,
   "id": "a7b8bde0",
   "metadata": {},
   "outputs": [
    {
     "data": {
      "text/plain": [
       "Index(['Day', 'Browser', 'No. of Clicks', 'Pages Viewed', 'Time (min)',\n",
       "       'Amount Spent (Rs.)'],\n",
       "      dtype='object')"
      ]
     },
     "execution_count": 12,
     "metadata": {},
     "output_type": "execute_result"
    }
   ],
   "source": [
    "df.columns"
   ]
  },
  {
   "cell_type": "code",
   "execution_count": 20,
   "id": "a5fc60e9",
   "metadata": {},
   "outputs": [],
   "source": [
    "sc =StandardScaler()\n",
    "sc_fit= sc.fit_transform(X)"
   ]
  },
  {
   "cell_type": "code",
   "execution_count": 23,
   "id": "b3ac3fb2",
   "metadata": {},
   "outputs": [
    {
     "data": {
      "text/plain": [
       "array([[-0.75292749, -0.83205029, -1.29905458, -0.4065788 , -0.71804916],\n",
       "       [-0.2763911 , -0.83205029, -1.05714497,  0.08924901,  0.681397  ],\n",
       "       [-0.75292749,  1.94145069, -0.45237096,  0.58507681, -0.91797004],\n",
       "       ...,\n",
       "       [-1.22946388,  0.5547002 ,  0.63622226,  2.56838805,  3.34700874],\n",
       "       [-0.75292749,  1.94145069, -0.45237096,  0.58507681, -0.91797004],\n",
       "       [ 1.62975445, -0.83205029,  0.63622226, -0.4065788 , -0.25156711]])"
      ]
     },
     "execution_count": 23,
     "metadata": {},
     "output_type": "execute_result"
    }
   ],
   "source": [
    "sc_fit"
   ]
  },
  {
   "cell_type": "code",
   "execution_count": 21,
   "id": "c26227a7",
   "metadata": {},
   "outputs": [],
   "source": [
    "pca = PCA()\n",
    "pca_X= pca.fit_transform(sc_fit)"
   ]
  },
  {
   "cell_type": "code",
   "execution_count": 22,
   "id": "15a5107a",
   "metadata": {},
   "outputs": [
    {
     "data": {
      "text/plain": [
       "array([[-1.23082708,  0.21403565, -1.10028021,  0.89559756,  0.23279418],\n",
       "       [-0.2742681 , -0.69597293, -0.43052995,  1.25805677, -0.17566533],\n",
       "       [ 0.28305213,  2.26510403,  0.51785439,  0.34741105,  0.35506559],\n",
       "       ...,\n",
       "       [ 3.95730703, -0.70175365,  0.30463554,  1.86696608, -0.54040256],\n",
       "       [ 0.28305213,  2.26510403,  0.51785439,  0.34741105,  0.35506559],\n",
       "       [-0.69304949, -1.31688937,  0.59526317, -1.13330997,  0.35851554]])"
      ]
     },
     "execution_count": 22,
     "metadata": {},
     "output_type": "execute_result"
    }
   ],
   "source": [
    "pca_X"
   ]
  },
  {
   "cell_type": "code",
   "execution_count": 24,
   "id": "0acf4df7",
   "metadata": {},
   "outputs": [
    {
     "data": {
      "text/plain": [
       "array([0.46153389, 0.21085949, 0.17362483, 0.08927177, 0.06471003])"
      ]
     },
     "execution_count": 24,
     "metadata": {},
     "output_type": "execute_result"
    }
   ],
   "source": [
    "pca.explained_variance_ratio_"
   ]
  },
  {
   "cell_type": "code",
   "execution_count": 25,
   "id": "9badbcb1",
   "metadata": {},
   "outputs": [
    {
     "data": {
      "text/plain": [
       "array([0.46153389, 0.67239338, 0.84601821, 0.93528997, 1.        ])"
      ]
     },
     "execution_count": 25,
     "metadata": {},
     "output_type": "execute_result"
    }
   ],
   "source": [
    "np.cumsum(pca.explained_variance_ratio_)"
   ]
  },
  {
   "cell_type": "code",
   "execution_count": 26,
   "id": "23661d51",
   "metadata": {},
   "outputs": [],
   "source": [
    "pca_df = pd.DataFrame(pca_X, columns=[\"PC1\",\"PC2\",\"PC3\",\"PC4\",\"PC5\"])"
   ]
  },
  {
   "cell_type": "code",
   "execution_count": 27,
   "id": "c075568f",
   "metadata": {},
   "outputs": [
    {
     "data": {
      "text/html": [
       "<div>\n",
       "<style scoped>\n",
       "    .dataframe tbody tr th:only-of-type {\n",
       "        vertical-align: middle;\n",
       "    }\n",
       "\n",
       "    .dataframe tbody tr th {\n",
       "        vertical-align: top;\n",
       "    }\n",
       "\n",
       "    .dataframe thead th {\n",
       "        text-align: right;\n",
       "    }\n",
       "</style>\n",
       "<table border=\"1\" class=\"dataframe\">\n",
       "  <thead>\n",
       "    <tr style=\"text-align: right;\">\n",
       "      <th></th>\n",
       "      <th>PC1</th>\n",
       "      <th>PC2</th>\n",
       "      <th>PC3</th>\n",
       "      <th>PC4</th>\n",
       "      <th>PC5</th>\n",
       "    </tr>\n",
       "  </thead>\n",
       "  <tbody>\n",
       "    <tr>\n",
       "      <th>0</th>\n",
       "      <td>-1.230827</td>\n",
       "      <td>0.214036</td>\n",
       "      <td>-1.100280</td>\n",
       "      <td>0.895598</td>\n",
       "      <td>0.232794</td>\n",
       "    </tr>\n",
       "    <tr>\n",
       "      <th>1</th>\n",
       "      <td>-0.274268</td>\n",
       "      <td>-0.695973</td>\n",
       "      <td>-0.430530</td>\n",
       "      <td>1.258057</td>\n",
       "      <td>-0.175665</td>\n",
       "    </tr>\n",
       "    <tr>\n",
       "      <th>2</th>\n",
       "      <td>0.283052</td>\n",
       "      <td>2.265104</td>\n",
       "      <td>0.517854</td>\n",
       "      <td>0.347411</td>\n",
       "      <td>0.355066</td>\n",
       "    </tr>\n",
       "    <tr>\n",
       "      <th>3</th>\n",
       "      <td>2.999354</td>\n",
       "      <td>-1.879474</td>\n",
       "      <td>-0.712616</td>\n",
       "      <td>-0.346029</td>\n",
       "      <td>-1.273154</td>\n",
       "    </tr>\n",
       "    <tr>\n",
       "      <th>4</th>\n",
       "      <td>0.628870</td>\n",
       "      <td>1.577554</td>\n",
       "      <td>1.065200</td>\n",
       "      <td>0.593397</td>\n",
       "      <td>-0.168274</td>\n",
       "    </tr>\n",
       "    <tr>\n",
       "      <th>...</th>\n",
       "      <td>...</td>\n",
       "      <td>...</td>\n",
       "      <td>...</td>\n",
       "      <td>...</td>\n",
       "      <td>...</td>\n",
       "    </tr>\n",
       "    <tr>\n",
       "      <th>43195</th>\n",
       "      <td>0.208075</td>\n",
       "      <td>-0.183903</td>\n",
       "      <td>-1.659924</td>\n",
       "      <td>-0.655061</td>\n",
       "      <td>-0.733100</td>\n",
       "    </tr>\n",
       "    <tr>\n",
       "      <th>43196</th>\n",
       "      <td>-1.230827</td>\n",
       "      <td>0.214036</td>\n",
       "      <td>-1.100280</td>\n",
       "      <td>0.895598</td>\n",
       "      <td>0.232794</td>\n",
       "    </tr>\n",
       "    <tr>\n",
       "      <th>43197</th>\n",
       "      <td>3.957307</td>\n",
       "      <td>-0.701754</td>\n",
       "      <td>0.304636</td>\n",
       "      <td>1.866966</td>\n",
       "      <td>-0.540403</td>\n",
       "    </tr>\n",
       "    <tr>\n",
       "      <th>43198</th>\n",
       "      <td>0.283052</td>\n",
       "      <td>2.265104</td>\n",
       "      <td>0.517854</td>\n",
       "      <td>0.347411</td>\n",
       "      <td>0.355066</td>\n",
       "    </tr>\n",
       "    <tr>\n",
       "      <th>43199</th>\n",
       "      <td>-0.693049</td>\n",
       "      <td>-1.316889</td>\n",
       "      <td>0.595263</td>\n",
       "      <td>-1.133310</td>\n",
       "      <td>0.358516</td>\n",
       "    </tr>\n",
       "  </tbody>\n",
       "</table>\n",
       "<p>43200 rows × 5 columns</p>\n",
       "</div>"
      ],
      "text/plain": [
       "            PC1       PC2       PC3       PC4       PC5\n",
       "0     -1.230827  0.214036 -1.100280  0.895598  0.232794\n",
       "1     -0.274268 -0.695973 -0.430530  1.258057 -0.175665\n",
       "2      0.283052  2.265104  0.517854  0.347411  0.355066\n",
       "3      2.999354 -1.879474 -0.712616 -0.346029 -1.273154\n",
       "4      0.628870  1.577554  1.065200  0.593397 -0.168274\n",
       "...         ...       ...       ...       ...       ...\n",
       "43195  0.208075 -0.183903 -1.659924 -0.655061 -0.733100\n",
       "43196 -1.230827  0.214036 -1.100280  0.895598  0.232794\n",
       "43197  3.957307 -0.701754  0.304636  1.866966 -0.540403\n",
       "43198  0.283052  2.265104  0.517854  0.347411  0.355066\n",
       "43199 -0.693049 -1.316889  0.595263 -1.133310  0.358516\n",
       "\n",
       "[43200 rows x 5 columns]"
      ]
     },
     "execution_count": 27,
     "metadata": {},
     "output_type": "execute_result"
    }
   ],
   "source": [
    "pca_df"
   ]
  },
  {
   "cell_type": "code",
   "execution_count": 40,
   "id": "f1d2a237",
   "metadata": {},
   "outputs": [],
   "source": [
    "X_train,X_test,y_train,y_test = train_test_split(pca_df,y, test_size= 0.2, random_state= 5)"
   ]
  },
  {
   "cell_type": "code",
   "execution_count": 49,
   "id": "a3acb899",
   "metadata": {},
   "outputs": [
    {
     "data": {
      "text/plain": [
       "LinearRegression()"
      ]
     },
     "execution_count": 49,
     "metadata": {},
     "output_type": "execute_result"
    }
   ],
   "source": [
    "lr = LinearRegression()\n",
    "lr.fit(X_train,y_train)"
   ]
  },
  {
   "cell_type": "code",
   "execution_count": 50,
   "id": "83818773",
   "metadata": {},
   "outputs": [],
   "source": [
    "lr_pred = lr.predict(X_test)"
   ]
  },
  {
   "cell_type": "code",
   "execution_count": 51,
   "id": "b8534a5f",
   "metadata": {},
   "outputs": [
    {
     "ename": "ValueError",
     "evalue": "continuous is not supported",
     "output_type": "error",
     "traceback": [
      "\u001b[1;31m---------------------------------------------------------------------------\u001b[0m",
      "\u001b[1;31mValueError\u001b[0m                                Traceback (most recent call last)",
      "\u001b[1;32mC:\\Users\\CELEST~1\\AppData\\Local\\Temp/ipykernel_21152/1021475352.py\u001b[0m in \u001b[0;36m<module>\u001b[1;34m\u001b[0m\n\u001b[1;32m----> 1\u001b[1;33m \u001b[0maccuracy_score\u001b[0m\u001b[1;33m(\u001b[0m\u001b[0my_test\u001b[0m\u001b[1;33m,\u001b[0m\u001b[0mlr_pred\u001b[0m\u001b[1;33m)\u001b[0m\u001b[1;33m\u001b[0m\u001b[1;33m\u001b[0m\u001b[0m\n\u001b[0m",
      "\u001b[1;32m~\\anaconda3\\lib\\site-packages\\sklearn\\utils\\validation.py\u001b[0m in \u001b[0;36minner_f\u001b[1;34m(*args, **kwargs)\u001b[0m\n\u001b[0;32m     61\u001b[0m             \u001b[0mextra_args\u001b[0m \u001b[1;33m=\u001b[0m \u001b[0mlen\u001b[0m\u001b[1;33m(\u001b[0m\u001b[0margs\u001b[0m\u001b[1;33m)\u001b[0m \u001b[1;33m-\u001b[0m \u001b[0mlen\u001b[0m\u001b[1;33m(\u001b[0m\u001b[0mall_args\u001b[0m\u001b[1;33m)\u001b[0m\u001b[1;33m\u001b[0m\u001b[1;33m\u001b[0m\u001b[0m\n\u001b[0;32m     62\u001b[0m             \u001b[1;32mif\u001b[0m \u001b[0mextra_args\u001b[0m \u001b[1;33m<=\u001b[0m \u001b[1;36m0\u001b[0m\u001b[1;33m:\u001b[0m\u001b[1;33m\u001b[0m\u001b[1;33m\u001b[0m\u001b[0m\n\u001b[1;32m---> 63\u001b[1;33m                 \u001b[1;32mreturn\u001b[0m \u001b[0mf\u001b[0m\u001b[1;33m(\u001b[0m\u001b[1;33m*\u001b[0m\u001b[0margs\u001b[0m\u001b[1;33m,\u001b[0m \u001b[1;33m**\u001b[0m\u001b[0mkwargs\u001b[0m\u001b[1;33m)\u001b[0m\u001b[1;33m\u001b[0m\u001b[1;33m\u001b[0m\u001b[0m\n\u001b[0m\u001b[0;32m     64\u001b[0m \u001b[1;33m\u001b[0m\u001b[0m\n\u001b[0;32m     65\u001b[0m             \u001b[1;31m# extra_args > 0\u001b[0m\u001b[1;33m\u001b[0m\u001b[1;33m\u001b[0m\u001b[0m\n",
      "\u001b[1;32m~\\anaconda3\\lib\\site-packages\\sklearn\\metrics\\_classification.py\u001b[0m in \u001b[0;36maccuracy_score\u001b[1;34m(y_true, y_pred, normalize, sample_weight)\u001b[0m\n\u001b[0;32m    200\u001b[0m \u001b[1;33m\u001b[0m\u001b[0m\n\u001b[0;32m    201\u001b[0m     \u001b[1;31m# Compute accuracy for each possible representation\u001b[0m\u001b[1;33m\u001b[0m\u001b[1;33m\u001b[0m\u001b[0m\n\u001b[1;32m--> 202\u001b[1;33m     \u001b[0my_type\u001b[0m\u001b[1;33m,\u001b[0m \u001b[0my_true\u001b[0m\u001b[1;33m,\u001b[0m \u001b[0my_pred\u001b[0m \u001b[1;33m=\u001b[0m \u001b[0m_check_targets\u001b[0m\u001b[1;33m(\u001b[0m\u001b[0my_true\u001b[0m\u001b[1;33m,\u001b[0m \u001b[0my_pred\u001b[0m\u001b[1;33m)\u001b[0m\u001b[1;33m\u001b[0m\u001b[1;33m\u001b[0m\u001b[0m\n\u001b[0m\u001b[0;32m    203\u001b[0m     \u001b[0mcheck_consistent_length\u001b[0m\u001b[1;33m(\u001b[0m\u001b[0my_true\u001b[0m\u001b[1;33m,\u001b[0m \u001b[0my_pred\u001b[0m\u001b[1;33m,\u001b[0m \u001b[0msample_weight\u001b[0m\u001b[1;33m)\u001b[0m\u001b[1;33m\u001b[0m\u001b[1;33m\u001b[0m\u001b[0m\n\u001b[0;32m    204\u001b[0m     \u001b[1;32mif\u001b[0m \u001b[0my_type\u001b[0m\u001b[1;33m.\u001b[0m\u001b[0mstartswith\u001b[0m\u001b[1;33m(\u001b[0m\u001b[1;34m'multilabel'\u001b[0m\u001b[1;33m)\u001b[0m\u001b[1;33m:\u001b[0m\u001b[1;33m\u001b[0m\u001b[1;33m\u001b[0m\u001b[0m\n",
      "\u001b[1;32m~\\anaconda3\\lib\\site-packages\\sklearn\\metrics\\_classification.py\u001b[0m in \u001b[0;36m_check_targets\u001b[1;34m(y_true, y_pred)\u001b[0m\n\u001b[0;32m     98\u001b[0m     \u001b[1;31m# No metrics support \"multiclass-multioutput\" format\u001b[0m\u001b[1;33m\u001b[0m\u001b[1;33m\u001b[0m\u001b[0m\n\u001b[0;32m     99\u001b[0m     \u001b[1;32mif\u001b[0m \u001b[1;33m(\u001b[0m\u001b[0my_type\u001b[0m \u001b[1;32mnot\u001b[0m \u001b[1;32min\u001b[0m \u001b[1;33m[\u001b[0m\u001b[1;34m\"binary\"\u001b[0m\u001b[1;33m,\u001b[0m \u001b[1;34m\"multiclass\"\u001b[0m\u001b[1;33m,\u001b[0m \u001b[1;34m\"multilabel-indicator\"\u001b[0m\u001b[1;33m]\u001b[0m\u001b[1;33m)\u001b[0m\u001b[1;33m:\u001b[0m\u001b[1;33m\u001b[0m\u001b[1;33m\u001b[0m\u001b[0m\n\u001b[1;32m--> 100\u001b[1;33m         \u001b[1;32mraise\u001b[0m \u001b[0mValueError\u001b[0m\u001b[1;33m(\u001b[0m\u001b[1;34m\"{0} is not supported\"\u001b[0m\u001b[1;33m.\u001b[0m\u001b[0mformat\u001b[0m\u001b[1;33m(\u001b[0m\u001b[0my_type\u001b[0m\u001b[1;33m)\u001b[0m\u001b[1;33m)\u001b[0m\u001b[1;33m\u001b[0m\u001b[1;33m\u001b[0m\u001b[0m\n\u001b[0m\u001b[0;32m    101\u001b[0m \u001b[1;33m\u001b[0m\u001b[0m\n\u001b[0;32m    102\u001b[0m     \u001b[1;32mif\u001b[0m \u001b[0my_type\u001b[0m \u001b[1;32min\u001b[0m \u001b[1;33m[\u001b[0m\u001b[1;34m\"binary\"\u001b[0m\u001b[1;33m,\u001b[0m \u001b[1;34m\"multiclass\"\u001b[0m\u001b[1;33m]\u001b[0m\u001b[1;33m:\u001b[0m\u001b[1;33m\u001b[0m\u001b[1;33m\u001b[0m\u001b[0m\n",
      "\u001b[1;31mValueError\u001b[0m: continuous is not supported"
     ]
    }
   ],
   "source": [
    "accuracy_score(y_test,lr_pred)"
   ]
  },
  {
   "cell_type": "code",
   "execution_count": null,
   "id": "3e297499",
   "metadata": {},
   "outputs": [],
   "source": []
  }
 ],
 "metadata": {
  "kernelspec": {
   "display_name": "Python 3 (ipykernel)",
   "language": "python",
   "name": "python3"
  },
  "language_info": {
   "codemirror_mode": {
    "name": "ipython",
    "version": 3
   },
   "file_extension": ".py",
   "mimetype": "text/x-python",
   "name": "python",
   "nbconvert_exporter": "python",
   "pygments_lexer": "ipython3",
   "version": "3.9.7"
  }
 },
 "nbformat": 4,
 "nbformat_minor": 5
}
