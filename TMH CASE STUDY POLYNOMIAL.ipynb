{
 "cells": [
  {
   "cell_type": "code",
   "execution_count": 35,
   "id": "e9201bf8",
   "metadata": {},
   "outputs": [],
   "source": [
    "import pandas as pd \n",
    "import numpy as np \n",
    "\n",
    "from sklearn.model_selection import train_test_split\n",
    "\n",
    "from sklearn.linear_model import LinearRegression\n",
    "\n",
    "from sklearn.metrics import r2_score\n",
    "\n",
    "from sklearn.preprocessing import PolynomialFeatures"
   ]
  },
  {
   "cell_type": "code",
   "execution_count": 5,
   "id": "f8f43ecf",
   "metadata": {},
   "outputs": [],
   "source": [
    "df = pd.read_excel(\"Cancer Dataset (1).xlsx\")"
   ]
  },
  {
   "cell_type": "code",
   "execution_count": 6,
   "id": "42827485",
   "metadata": {},
   "outputs": [
    {
     "data": {
      "text/html": [
       "<div>\n",
       "<style scoped>\n",
       "    .dataframe tbody tr th:only-of-type {\n",
       "        vertical-align: middle;\n",
       "    }\n",
       "\n",
       "    .dataframe tbody tr th {\n",
       "        vertical-align: top;\n",
       "    }\n",
       "\n",
       "    .dataframe thead th {\n",
       "        text-align: right;\n",
       "    }\n",
       "</style>\n",
       "<table border=\"1\" class=\"dataframe\">\n",
       "  <thead>\n",
       "    <tr style=\"text-align: right;\">\n",
       "      <th></th>\n",
       "      <th>Report</th>\n",
       "      <th>Herceptin</th>\n",
       "      <th>Doxorubicin</th>\n",
       "    </tr>\n",
       "  </thead>\n",
       "  <tbody>\n",
       "    <tr>\n",
       "      <th>0</th>\n",
       "      <td>18.73178</td>\n",
       "      <td>38.887286</td>\n",
       "      <td>19.912786</td>\n",
       "    </tr>\n",
       "    <tr>\n",
       "      <th>1</th>\n",
       "      <td>18.74178</td>\n",
       "      <td>38.943168</td>\n",
       "      <td>19.928077</td>\n",
       "    </tr>\n",
       "    <tr>\n",
       "      <th>2</th>\n",
       "      <td>18.76178</td>\n",
       "      <td>39.055101</td>\n",
       "      <td>19.958675</td>\n",
       "    </tr>\n",
       "    <tr>\n",
       "      <th>3</th>\n",
       "      <td>18.77178</td>\n",
       "      <td>39.111152</td>\n",
       "      <td>19.973981</td>\n",
       "    </tr>\n",
       "    <tr>\n",
       "      <th>4</th>\n",
       "      <td>18.81780</td>\n",
       "      <td>39.369823</td>\n",
       "      <td>20.044488</td>\n",
       "    </tr>\n",
       "  </tbody>\n",
       "</table>\n",
       "</div>"
      ],
      "text/plain": [
       "     Report  Herceptin  Doxorubicin\n",
       "0  18.73178  38.887286    19.912786\n",
       "1  18.74178  38.943168    19.928077\n",
       "2  18.76178  39.055101    19.958675\n",
       "3  18.77178  39.111152    19.973981\n",
       "4  18.81780  39.369823    20.044488"
      ]
     },
     "execution_count": 6,
     "metadata": {},
     "output_type": "execute_result"
    }
   ],
   "source": [
    "df.head()"
   ]
  },
  {
   "cell_type": "code",
   "execution_count": 7,
   "id": "39affb7d",
   "metadata": {},
   "outputs": [],
   "source": [
    "df1 = df.drop(\"Doxorubicin\",axis= 1)"
   ]
  },
  {
   "cell_type": "code",
   "execution_count": 8,
   "id": "b9fba56c",
   "metadata": {},
   "outputs": [],
   "source": [
    "df2 = df.drop(\"Herceptin\", axis=1)"
   ]
  },
  {
   "cell_type": "code",
   "execution_count": 10,
   "id": "69639afd",
   "metadata": {},
   "outputs": [
    {
     "data": {
      "text/html": [
       "<div>\n",
       "<style scoped>\n",
       "    .dataframe tbody tr th:only-of-type {\n",
       "        vertical-align: middle;\n",
       "    }\n",
       "\n",
       "    .dataframe tbody tr th {\n",
       "        vertical-align: top;\n",
       "    }\n",
       "\n",
       "    .dataframe thead th {\n",
       "        text-align: right;\n",
       "    }\n",
       "</style>\n",
       "<table border=\"1\" class=\"dataframe\">\n",
       "  <thead>\n",
       "    <tr style=\"text-align: right;\">\n",
       "      <th></th>\n",
       "      <th>Report</th>\n",
       "      <th>Herceptin</th>\n",
       "    </tr>\n",
       "  </thead>\n",
       "  <tbody>\n",
       "    <tr>\n",
       "      <th>count</th>\n",
       "      <td>99.00</td>\n",
       "      <td>99.00</td>\n",
       "    </tr>\n",
       "    <tr>\n",
       "      <th>mean</th>\n",
       "      <td>77.11</td>\n",
       "      <td>3977.11</td>\n",
       "    </tr>\n",
       "    <tr>\n",
       "      <th>std</th>\n",
       "      <td>37.73</td>\n",
       "      <td>4381.73</td>\n",
       "    </tr>\n",
       "    <tr>\n",
       "      <th>min</th>\n",
       "      <td>18.73</td>\n",
       "      <td>38.89</td>\n",
       "    </tr>\n",
       "    <tr>\n",
       "      <th>25%</th>\n",
       "      <td>46.98</td>\n",
       "      <td>533.10</td>\n",
       "    </tr>\n",
       "    <tr>\n",
       "      <th>50%</th>\n",
       "      <td>77.53</td>\n",
       "      <td>2352.76</td>\n",
       "    </tr>\n",
       "    <tr>\n",
       "      <th>75%</th>\n",
       "      <td>105.82</td>\n",
       "      <td>5955.15</td>\n",
       "    </tr>\n",
       "    <tr>\n",
       "      <th>max</th>\n",
       "      <td>144.49</td>\n",
       "      <td>15118.44</td>\n",
       "    </tr>\n",
       "  </tbody>\n",
       "</table>\n",
       "</div>"
      ],
      "text/plain": [
       "       Report  Herceptin\n",
       "count   99.00      99.00\n",
       "mean    77.11    3977.11\n",
       "std     37.73    4381.73\n",
       "min     18.73      38.89\n",
       "25%     46.98     533.10\n",
       "50%     77.53    2352.76\n",
       "75%    105.82    5955.15\n",
       "max    144.49   15118.44"
      ]
     },
     "execution_count": 10,
     "metadata": {},
     "output_type": "execute_result"
    }
   ],
   "source": [
    "round(df1.describe(),2)"
   ]
  },
  {
   "cell_type": "code",
   "execution_count": 11,
   "id": "abf62372",
   "metadata": {},
   "outputs": [
    {
     "data": {
      "text/html": [
       "<div>\n",
       "<style scoped>\n",
       "    .dataframe tbody tr th:only-of-type {\n",
       "        vertical-align: middle;\n",
       "    }\n",
       "\n",
       "    .dataframe tbody tr th {\n",
       "        vertical-align: top;\n",
       "    }\n",
       "\n",
       "    .dataframe thead th {\n",
       "        text-align: right;\n",
       "    }\n",
       "</style>\n",
       "<table border=\"1\" class=\"dataframe\">\n",
       "  <thead>\n",
       "    <tr style=\"text-align: right;\">\n",
       "      <th></th>\n",
       "      <th>Report</th>\n",
       "      <th>Doxorubicin</th>\n",
       "    </tr>\n",
       "  </thead>\n",
       "  <tbody>\n",
       "    <tr>\n",
       "      <th>count</th>\n",
       "      <td>99.00</td>\n",
       "      <td>99.00</td>\n",
       "    </tr>\n",
       "    <tr>\n",
       "      <th>mean</th>\n",
       "      <td>77.11</td>\n",
       "      <td>232.47</td>\n",
       "    </tr>\n",
       "    <tr>\n",
       "      <th>std</th>\n",
       "      <td>37.73</td>\n",
       "      <td>178.25</td>\n",
       "    </tr>\n",
       "    <tr>\n",
       "      <th>min</th>\n",
       "      <td>18.73</td>\n",
       "      <td>19.91</td>\n",
       "    </tr>\n",
       "    <tr>\n",
       "      <th>25%</th>\n",
       "      <td>46.98</td>\n",
       "      <td>83.53</td>\n",
       "    </tr>\n",
       "    <tr>\n",
       "      <th>50%</th>\n",
       "      <td>77.53</td>\n",
       "      <td>198.30</td>\n",
       "    </tr>\n",
       "    <tr>\n",
       "      <th>75%</th>\n",
       "      <td>105.82</td>\n",
       "      <td>347.25</td>\n",
       "    </tr>\n",
       "    <tr>\n",
       "      <th>max</th>\n",
       "      <td>144.49</td>\n",
       "      <td>617.01</td>\n",
       "    </tr>\n",
       "  </tbody>\n",
       "</table>\n",
       "</div>"
      ],
      "text/plain": [
       "       Report  Doxorubicin\n",
       "count   99.00        99.00\n",
       "mean    77.11       232.47\n",
       "std     37.73       178.25\n",
       "min     18.73        19.91\n",
       "25%     46.98        83.53\n",
       "50%     77.53       198.30\n",
       "75%    105.82       347.25\n",
       "max    144.49       617.01"
      ]
     },
     "execution_count": 11,
     "metadata": {},
     "output_type": "execute_result"
    }
   ],
   "source": [
    "round(df2.describe(), 2)"
   ]
  },
  {
   "cell_type": "code",
   "execution_count": 16,
   "id": "a64dfdd6",
   "metadata": {},
   "outputs": [
    {
     "data": {
      "text/plain": [
       "Report       0.127887\n",
       "Herceptin    1.126327\n",
       "dtype: float64"
      ]
     },
     "execution_count": 16,
     "metadata": {},
     "output_type": "execute_result"
    }
   ],
   "source": [
    "df1.skew()"
   ]
  },
  {
   "cell_type": "code",
   "execution_count": 15,
   "id": "6a5d9df1",
   "metadata": {},
   "outputs": [
    {
     "data": {
      "text/plain": [
       "Report         0.127887\n",
       "Doxorubicin    0.654409\n",
       "dtype: float64"
      ]
     },
     "execution_count": 15,
     "metadata": {},
     "output_type": "execute_result"
    }
   ],
   "source": [
    "df2.skew()"
   ]
  },
  {
   "cell_type": "code",
   "execution_count": 20,
   "id": "9d5fb972",
   "metadata": {},
   "outputs": [],
   "source": [
    "#Train test split\n",
    "\n",
    "X_train,X_test,y_train,y_test = train_test_split(df[[\"Report\"]],df[[\"Herceptin\"]],test_size= 0.2, random_state= 5)"
   ]
  },
  {
   "cell_type": "code",
   "execution_count": 22,
   "id": "d37bd8da",
   "metadata": {},
   "outputs": [
    {
     "data": {
      "text/plain": [
       "(79, 1)"
      ]
     },
     "execution_count": 22,
     "metadata": {},
     "output_type": "execute_result"
    }
   ],
   "source": [
    "X_train.shape"
   ]
  },
  {
   "cell_type": "code",
   "execution_count": 23,
   "id": "09820c14",
   "metadata": {},
   "outputs": [
    {
     "data": {
      "text/plain": [
       "(79, 1)"
      ]
     },
     "execution_count": 23,
     "metadata": {},
     "output_type": "execute_result"
    }
   ],
   "source": [
    "y_train.shape"
   ]
  },
  {
   "cell_type": "code",
   "execution_count": 25,
   "id": "38c35afe",
   "metadata": {},
   "outputs": [
    {
     "data": {
      "text/plain": [
       "LinearRegression()"
      ]
     },
     "execution_count": 25,
     "metadata": {},
     "output_type": "execute_result"
    }
   ],
   "source": [
    "#Linear regression\n",
    "\n",
    "lr = LinearRegression()\n",
    "lr.fit(X_train,y_train)"
   ]
  },
  {
   "cell_type": "code",
   "execution_count": 26,
   "id": "55f4a5d3",
   "metadata": {},
   "outputs": [],
   "source": [
    "lr_pred = lr.predict(X_test)"
   ]
  },
  {
   "cell_type": "code",
   "execution_count": 28,
   "id": "d449a682",
   "metadata": {},
   "outputs": [
    {
     "data": {
      "text/plain": [
       "0.7887405210710017"
      ]
     },
     "execution_count": 28,
     "metadata": {},
     "output_type": "execute_result"
    }
   ],
   "source": [
    "r2_score(y_test,lr_pred)"
   ]
  },
  {
   "cell_type": "code",
   "execution_count": 31,
   "id": "29994ddb",
   "metadata": {},
   "outputs": [],
   "source": [
    "X_train,X1_test,y1_train,y1_test = train_test_split(df[[\"Report\"]],df[[\"Doxorubicin\"]],test_size= 0.2, random_state= 5)"
   ]
  },
  {
   "cell_type": "code",
   "execution_count": 32,
   "id": "9717fdd7",
   "metadata": {},
   "outputs": [
    {
     "data": {
      "text/plain": [
       "LinearRegression()"
      ]
     },
     "execution_count": 32,
     "metadata": {},
     "output_type": "execute_result"
    }
   ],
   "source": [
    "lr1 = lr\n",
    "lr1.fit(X_train,y1_train)"
   ]
  },
  {
   "cell_type": "code",
   "execution_count": 34,
   "id": "369092a0",
   "metadata": {},
   "outputs": [
    {
     "data": {
      "text/plain": [
       "0.9464148270398445"
      ]
     },
     "execution_count": 34,
     "metadata": {},
     "output_type": "execute_result"
    }
   ],
   "source": [
    "r2_score(y1_test,lr1.predict(X1_test))"
   ]
  },
  {
   "cell_type": "code",
   "execution_count": 37,
   "id": "354537ec",
   "metadata": {},
   "outputs": [],
   "source": [
    "x = df[[\"Report\"]]\n",
    "y = df[[\"Doxorubicin\"]]"
   ]
  },
  {
   "cell_type": "code",
   "execution_count": 38,
   "id": "8864d710",
   "metadata": {},
   "outputs": [],
   "source": [
    "#Using polynomial feature\n",
    "\n",
    "po = PolynomialFeatures()"
   ]
  },
  {
   "cell_type": "code",
   "execution_count": 39,
   "id": "651c57a2",
   "metadata": {},
   "outputs": [],
   "source": [
    "x2 = po.fit_transform(x)"
   ]
  },
  {
   "cell_type": "code",
   "execution_count": 40,
   "id": "e1dcc15c",
   "metadata": {},
   "outputs": [
    {
     "data": {
      "text/plain": [
       "array([[1.00000000e+00, 1.87317800e+01, 3.50879582e+02],\n",
       "       [1.00000000e+00, 1.87417800e+01, 3.51254318e+02],\n",
       "       [1.00000000e+00, 1.87617800e+01, 3.52004389e+02],\n",
       "       [1.00000000e+00, 1.87717800e+01, 3.52379724e+02],\n",
       "       [1.00000000e+00, 1.88178000e+01, 3.54109597e+02],\n",
       "       [1.00000000e+00, 2.07317800e+01, 4.29806702e+02],\n",
       "       [1.00000000e+00, 2.20976700e+01, 4.88307019e+02],\n",
       "       [1.00000000e+00, 2.30976700e+01, 5.33502359e+02],\n",
       "       [1.00000000e+00, 2.60976700e+01, 6.81088379e+02],\n",
       "       [1.00000000e+00, 2.70976700e+01, 7.34283719e+02],\n",
       "       [1.00000000e+00, 2.71976700e+01, 7.39713253e+02],\n",
       "       [1.00000000e+00, 2.76976700e+01, 7.67160923e+02],\n",
       "       [1.00000000e+00, 2.80976700e+01, 7.89479059e+02],\n",
       "       [1.00000000e+00, 3.00976700e+01, 9.05869739e+02],\n",
       "       [1.00000000e+00, 3.14635600e+01, 9.89955608e+02],\n",
       "       [1.00000000e+00, 3.24635600e+01, 1.05388273e+03],\n",
       "       [1.00000000e+00, 3.34635600e+01, 1.11980985e+03],\n",
       "       [1.00000000e+00, 3.44635600e+01, 1.18773697e+03],\n",
       "       [1.00000000e+00, 3.54635600e+01, 1.25766409e+03],\n",
       "       [1.00000000e+00, 3.57635600e+01, 1.27903222e+03],\n",
       "       [1.00000000e+00, 3.61635600e+01, 1.30780307e+03],\n",
       "       [1.00000000e+00, 3.62535600e+01, 1.31432061e+03],\n",
       "       [1.00000000e+00, 3.69635600e+01, 1.36630477e+03],\n",
       "       [1.00000000e+00, 3.74635600e+01, 1.40351833e+03],\n",
       "       [1.00000000e+00, 4.68294500e+01, 2.19299739e+03],\n",
       "       [1.00000000e+00, 4.71294500e+01, 2.22118506e+03],\n",
       "       [1.00000000e+00, 4.85694500e+01, 2.35899147e+03],\n",
       "       [1.00000000e+00, 4.98294500e+01, 2.48297409e+03],\n",
       "       [1.00000000e+00, 5.09294500e+01, 2.59380888e+03],\n",
       "       [1.00000000e+00, 5.18294500e+01, 2.68629189e+03],\n",
       "       [1.00000000e+00, 5.38294500e+01, 2.89760969e+03],\n",
       "       [1.00000000e+00, 5.61953400e+01, 3.15791624e+03],\n",
       "       [1.00000000e+00, 5.72353400e+01, 3.27588414e+03],\n",
       "       [1.00000000e+00, 5.81963400e+01, 3.38681399e+03],\n",
       "       [1.00000000e+00, 5.89953400e+01, 3.48045014e+03],\n",
       "       [1.00000000e+00, 5.91953400e+01, 3.50408828e+03],\n",
       "       [1.00000000e+00, 6.01568340e+01, 3.61884468e+03],\n",
       "       [1.00000000e+00, 6.21583400e+01, 3.86365923e+03],\n",
       "       [1.00000000e+00, 6.55612300e+01, 4.29827488e+03],\n",
       "       [1.00000000e+00, 6.67812300e+01, 4.45973268e+03],\n",
       "       [1.00000000e+00, 6.78952300e+01, 4.60976226e+03],\n",
       "       [1.00000000e+00, 6.79612300e+01, 4.61872878e+03],\n",
       "       [1.00000000e+00, 6.89892300e+01, 4.75951386e+03],\n",
       "       [1.00000000e+00, 7.05612300e+01, 4.97888718e+03],\n",
       "       [1.00000000e+00, 7.29812300e+01, 5.32625993e+03],\n",
       "       [1.00000000e+00, 7.49271200e+01, 5.61407331e+03],\n",
       "       [1.00000000e+00, 7.52271200e+01, 5.65911958e+03],\n",
       "       [1.00000000e+00, 7.65671200e+01, 5.86252387e+03],\n",
       "       [1.00000000e+00, 7.71271200e+01, 5.94859264e+03],\n",
       "       [1.00000000e+00, 7.75271200e+01, 6.01045434e+03],\n",
       "       [1.00000000e+00, 7.77271200e+01, 6.04150518e+03],\n",
       "       [1.00000000e+00, 7.81071200e+01, 6.10072219e+03],\n",
       "       [1.00000000e+00, 7.82571200e+01, 6.12417683e+03],\n",
       "       [1.00000000e+00, 7.82597120e+01, 6.12458252e+03],\n",
       "       [1.00000000e+00, 7.89291200e+01, 6.22980598e+03],\n",
       "       [1.00000000e+00, 8.09271200e+01, 6.54919875e+03],\n",
       "       [1.00000000e+00, 8.16271200e+01, 6.66298672e+03],\n",
       "       [1.00000000e+00, 8.17271200e+01, 6.67932214e+03],\n",
       "       [1.00000000e+00, 8.18271200e+01, 6.69567757e+03],\n",
       "       [1.00000000e+00, 8.42930100e+01, 7.10531153e+03],\n",
       "       [1.00000000e+00, 8.58301000e+01, 7.36680607e+03],\n",
       "       [1.00000000e+00, 8.69301000e+01, 7.55684229e+03],\n",
       "       [1.00000000e+00, 8.77301000e+01, 7.69657045e+03],\n",
       "       [1.00000000e+00, 8.82830100e+01, 7.79388985e+03],\n",
       "       [1.00000000e+00, 9.01930100e+01, 8.13477905e+03],\n",
       "       [1.00000000e+00, 9.36589000e+01, 8.77198955e+03],\n",
       "       [1.00000000e+00, 9.46589000e+01, 8.96030735e+03],\n",
       "       [1.00000000e+00, 9.55589000e+01, 9.13150337e+03],\n",
       "       [1.00000000e+00, 9.69589000e+01, 9.40102829e+03],\n",
       "       [1.00000000e+00, 9.76989000e+01, 9.54507506e+03],\n",
       "       [1.00000000e+00, 1.03024790e+02, 1.06141074e+04],\n",
       "       [1.00000000e+00, 1.05124790e+02, 1.10512215e+04],\n",
       "       [1.00000000e+00, 1.05524790e+02, 1.11354813e+04],\n",
       "       [1.00000000e+00, 1.05724790e+02, 1.11777312e+04],\n",
       "       [1.00000000e+00, 1.05924790e+02, 1.12200611e+04],\n",
       "       [1.00000000e+00, 1.09364790e+02, 1.19606573e+04],\n",
       "       [1.00000000e+00, 1.10024790e+02, 1.21054544e+04],\n",
       "       [1.00000000e+00, 1.12390680e+02, 1.26316650e+04],\n",
       "       [1.00000000e+00, 1.18590680e+02, 1.40637494e+04],\n",
       "       [1.00000000e+00, 1.21756570e+02, 1.48246623e+04],\n",
       "       [1.00000000e+00, 1.21656570e+02, 1.48003210e+04],\n",
       "       [1.00000000e+00, 1.22556570e+02, 1.50201129e+04],\n",
       "       [1.00000000e+00, 1.23856570e+02, 1.53404499e+04],\n",
       "       [1.00000000e+00, 1.24695700e+02, 1.55490176e+04],\n",
       "       [1.00000000e+00, 1.25256570e+02, 1.56892083e+04],\n",
       "       [1.00000000e+00, 1.26565700e+02, 1.60188764e+04],\n",
       "       [1.00000000e+00, 1.27756570e+02, 1.63217412e+04],\n",
       "       [1.00000000e+00, 1.28866570e+02, 1.66065929e+04],\n",
       "       [1.00000000e+00, 1.30756570e+02, 1.70972806e+04],\n",
       "       [1.00000000e+00, 1.31122460e+02, 1.71930995e+04],\n",
       "       [1.00000000e+00, 1.33782460e+02, 1.78977466e+04],\n",
       "       [1.00000000e+00, 1.34522460e+02, 1.80962922e+04],\n",
       "       [1.00000000e+00, 1.36582460e+02, 1.86547684e+04],\n",
       "       [1.00000000e+00, 1.40488350e+02, 1.97369765e+04],\n",
       "       [1.00000000e+00, 1.40568350e+02, 1.97594610e+04],\n",
       "       [1.00000000e+00, 1.40638350e+02, 1.97791455e+04],\n",
       "       [1.00000000e+00, 1.41258350e+02, 1.99539214e+04],\n",
       "       [1.00000000e+00, 1.42368350e+02, 2.02687471e+04],\n",
       "       [1.00000000e+00, 1.44485350e+02, 2.08760164e+04]])"
      ]
     },
     "execution_count": 40,
     "metadata": {},
     "output_type": "execute_result"
    }
   ],
   "source": [
    "x2"
   ]
  },
  {
   "cell_type": "code",
   "execution_count": 41,
   "id": "9b7c91c4",
   "metadata": {},
   "outputs": [],
   "source": [
    "X1_train,X1_test,y_train,y_test = train_test_split(x2,y,test_size= 0.2, random_state= 5)"
   ]
  },
  {
   "cell_type": "code",
   "execution_count": 42,
   "id": "83f79c4a",
   "metadata": {},
   "outputs": [
    {
     "data": {
      "text/plain": [
       "(79, 3)"
      ]
     },
     "execution_count": 42,
     "metadata": {},
     "output_type": "execute_result"
    }
   ],
   "source": [
    "X1_train.shape"
   ]
  },
  {
   "cell_type": "code",
   "execution_count": 44,
   "id": "5621e0e4",
   "metadata": {},
   "outputs": [
    {
     "data": {
      "text/plain": [
       "LinearRegression()"
      ]
     },
     "execution_count": 44,
     "metadata": {},
     "output_type": "execute_result"
    }
   ],
   "source": [
    "lr2 = LinearRegression()\n",
    "lr2.fit(X1_train,y_train)"
   ]
  },
  {
   "cell_type": "code",
   "execution_count": 45,
   "id": "bcbab535",
   "metadata": {},
   "outputs": [
    {
     "data": {
      "text/plain": [
       "1.0"
      ]
     },
     "execution_count": 45,
     "metadata": {},
     "output_type": "execute_result"
    }
   ],
   "source": [
    "r2_score(y_test,lr2.predict(X1_test))"
   ]
  },
  {
   "cell_type": "code",
   "execution_count": 48,
   "id": "651b6276",
   "metadata": {},
   "outputs": [],
   "source": [
    "#testing\n",
    "\n",
    "x_poly = po.fit_transform([[20.73178]])"
   ]
  },
  {
   "cell_type": "code",
   "execution_count": 49,
   "id": "57a3776d",
   "metadata": {},
   "outputs": [
    {
     "data": {
      "text/plain": [
       "array([[23.07291981]])"
      ]
     },
     "execution_count": 49,
     "metadata": {},
     "output_type": "execute_result"
    }
   ],
   "source": [
    "lr2.predict(x_poly)"
   ]
  },
  {
   "cell_type": "code",
   "execution_count": null,
   "id": "facd6ca1",
   "metadata": {},
   "outputs": [],
   "source": [
    "100% working model!!"
   ]
  }
 ],
 "metadata": {
  "kernelspec": {
   "display_name": "Python 3 (ipykernel)",
   "language": "python",
   "name": "python3"
  },
  "language_info": {
   "codemirror_mode": {
    "name": "ipython",
    "version": 3
   },
   "file_extension": ".py",
   "mimetype": "text/x-python",
   "name": "python",
   "nbconvert_exporter": "python",
   "pygments_lexer": "ipython3",
   "version": "3.9.7"
  }
 },
 "nbformat": 4,
 "nbformat_minor": 5
}
