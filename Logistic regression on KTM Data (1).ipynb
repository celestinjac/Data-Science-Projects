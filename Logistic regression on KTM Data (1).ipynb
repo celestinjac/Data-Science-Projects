{
 "cells": [
  {
   "cell_type": "code",
   "execution_count": 27,
   "id": "7eb25c34",
   "metadata": {},
   "outputs": [],
   "source": [
    "import pandas as pd \n",
    "import numpy as np \n",
    "from sklearn.preprocessing import LabelEncoder \n",
    "from sklearn.model_selection import train_test_split\n",
    "from sklearn.linear_model import LogisticRegression\n",
    "from sklearn.metrics import accuracy_score, confusion_matrix, auc"
   ]
  },
  {
   "cell_type": "code",
   "execution_count": 2,
   "id": "caa57f9d",
   "metadata": {},
   "outputs": [],
   "source": [
    "df = pd.read_excel(\"ktm ml.xlsx\")"
   ]
  },
  {
   "cell_type": "code",
   "execution_count": 3,
   "id": "a0991c0f",
   "metadata": {},
   "outputs": [
    {
     "data": {
      "text/html": [
       "<div>\n",
       "<style scoped>\n",
       "    .dataframe tbody tr th:only-of-type {\n",
       "        vertical-align: middle;\n",
       "    }\n",
       "\n",
       "    .dataframe tbody tr th {\n",
       "        vertical-align: top;\n",
       "    }\n",
       "\n",
       "    .dataframe thead th {\n",
       "        text-align: right;\n",
       "    }\n",
       "</style>\n",
       "<table border=\"1\" class=\"dataframe\">\n",
       "  <thead>\n",
       "    <tr style=\"text-align: right;\">\n",
       "      <th></th>\n",
       "      <th>ID</th>\n",
       "      <th>Age</th>\n",
       "      <th>Gender</th>\n",
       "      <th>Occupation</th>\n",
       "      <th>Phone Type</th>\n",
       "      <th>Current Bike</th>\n",
       "      <th>Relationship</th>\n",
       "      <th>Response</th>\n",
       "    </tr>\n",
       "  </thead>\n",
       "  <tbody>\n",
       "    <tr>\n",
       "      <th>0</th>\n",
       "      <td>1</td>\n",
       "      <td>53</td>\n",
       "      <td>Male</td>\n",
       "      <td>Professional</td>\n",
       "      <td>Average</td>\n",
       "      <td>180 to 220</td>\n",
       "      <td>Complicated</td>\n",
       "      <td>Not purchased</td>\n",
       "    </tr>\n",
       "    <tr>\n",
       "      <th>1</th>\n",
       "      <td>2</td>\n",
       "      <td>27</td>\n",
       "      <td>Female</td>\n",
       "      <td>Self Employed</td>\n",
       "      <td>Low End</td>\n",
       "      <td>No Bike</td>\n",
       "      <td>Single</td>\n",
       "      <td>Purchased</td>\n",
       "    </tr>\n",
       "    <tr>\n",
       "      <th>2</th>\n",
       "      <td>3</td>\n",
       "      <td>39</td>\n",
       "      <td>Female</td>\n",
       "      <td>Unemployed</td>\n",
       "      <td>Average</td>\n",
       "      <td>180 to 220</td>\n",
       "      <td>Married</td>\n",
       "      <td>Not purchased</td>\n",
       "    </tr>\n",
       "    <tr>\n",
       "      <th>3</th>\n",
       "      <td>4</td>\n",
       "      <td>20</td>\n",
       "      <td>Female</td>\n",
       "      <td>Unemployed</td>\n",
       "      <td>High End</td>\n",
       "      <td>No Bike</td>\n",
       "      <td>Married</td>\n",
       "      <td>Not purchased</td>\n",
       "    </tr>\n",
       "    <tr>\n",
       "      <th>4</th>\n",
       "      <td>5</td>\n",
       "      <td>29</td>\n",
       "      <td>Male</td>\n",
       "      <td>Student</td>\n",
       "      <td>Average</td>\n",
       "      <td>180 to 220</td>\n",
       "      <td>Complicated</td>\n",
       "      <td>Purchased</td>\n",
       "    </tr>\n",
       "  </tbody>\n",
       "</table>\n",
       "</div>"
      ],
      "text/plain": [
       "   ID  Age  Gender     Occupation Phone Type Current Bike Relationship  \\\n",
       "0   1   53   Male    Professional    Average   180 to 220  Complicated   \n",
       "1   2   27  Female  Self Employed    Low End      No Bike       Single   \n",
       "2   3   39  Female     Unemployed    Average   180 to 220      Married   \n",
       "3   4   20  Female     Unemployed   High End      No Bike      Married   \n",
       "4   5   29   Male         Student    Average   180 to 220  Complicated   \n",
       "\n",
       "        Response  \n",
       "0  Not purchased  \n",
       "1      Purchased  \n",
       "2  Not purchased  \n",
       "3  Not purchased  \n",
       "4      Purchased  "
      ]
     },
     "execution_count": 3,
     "metadata": {},
     "output_type": "execute_result"
    }
   ],
   "source": [
    "df.head()"
   ]
  },
  {
   "cell_type": "code",
   "execution_count": 4,
   "id": "2a90c810",
   "metadata": {},
   "outputs": [
    {
     "data": {
      "text/html": [
       "<div>\n",
       "<style scoped>\n",
       "    .dataframe tbody tr th:only-of-type {\n",
       "        vertical-align: middle;\n",
       "    }\n",
       "\n",
       "    .dataframe tbody tr th {\n",
       "        vertical-align: top;\n",
       "    }\n",
       "\n",
       "    .dataframe thead th {\n",
       "        text-align: right;\n",
       "    }\n",
       "</style>\n",
       "<table border=\"1\" class=\"dataframe\">\n",
       "  <thead>\n",
       "    <tr style=\"text-align: right;\">\n",
       "      <th></th>\n",
       "      <th>ID</th>\n",
       "      <th>Age</th>\n",
       "    </tr>\n",
       "  </thead>\n",
       "  <tbody>\n",
       "    <tr>\n",
       "      <th>count</th>\n",
       "      <td>1518.00</td>\n",
       "      <td>1518.00</td>\n",
       "    </tr>\n",
       "    <tr>\n",
       "      <th>mean</th>\n",
       "      <td>759.50</td>\n",
       "      <td>32.73</td>\n",
       "    </tr>\n",
       "    <tr>\n",
       "      <th>std</th>\n",
       "      <td>438.35</td>\n",
       "      <td>13.26</td>\n",
       "    </tr>\n",
       "    <tr>\n",
       "      <th>min</th>\n",
       "      <td>1.00</td>\n",
       "      <td>18.00</td>\n",
       "    </tr>\n",
       "    <tr>\n",
       "      <th>25%</th>\n",
       "      <td>380.25</td>\n",
       "      <td>22.00</td>\n",
       "    </tr>\n",
       "    <tr>\n",
       "      <th>50%</th>\n",
       "      <td>759.50</td>\n",
       "      <td>28.00</td>\n",
       "    </tr>\n",
       "    <tr>\n",
       "      <th>75%</th>\n",
       "      <td>1138.75</td>\n",
       "      <td>44.00</td>\n",
       "    </tr>\n",
       "    <tr>\n",
       "      <th>max</th>\n",
       "      <td>1518.00</td>\n",
       "      <td>60.00</td>\n",
       "    </tr>\n",
       "  </tbody>\n",
       "</table>\n",
       "</div>"
      ],
      "text/plain": [
       "            ID      Age\n",
       "count  1518.00  1518.00\n",
       "mean    759.50    32.73\n",
       "std     438.35    13.26\n",
       "min       1.00    18.00\n",
       "25%     380.25    22.00\n",
       "50%     759.50    28.00\n",
       "75%    1138.75    44.00\n",
       "max    1518.00    60.00"
      ]
     },
     "execution_count": 4,
     "metadata": {},
     "output_type": "execute_result"
    }
   ],
   "source": [
    "round(df.describe(),2)"
   ]
  },
  {
   "cell_type": "code",
   "execution_count": 5,
   "id": "b88a9b0c",
   "metadata": {},
   "outputs": [
    {
     "data": {
      "text/plain": [
       "-1.0629957392129958"
      ]
     },
     "execution_count": 5,
     "metadata": {},
     "output_type": "execute_result"
    }
   ],
   "source": [
    "df[\"Age\"].kurt()"
   ]
  },
  {
   "cell_type": "code",
   "execution_count": 6,
   "id": "53a44249",
   "metadata": {},
   "outputs": [
    {
     "data": {
      "text/plain": [
       "0.5781958580369608"
      ]
     },
     "execution_count": 6,
     "metadata": {},
     "output_type": "execute_result"
    }
   ],
   "source": [
    "df[\"Age\"].skew()"
   ]
  },
  {
   "cell_type": "code",
   "execution_count": 7,
   "id": "d33774ae",
   "metadata": {},
   "outputs": [],
   "source": [
    "#Label Enconding\n",
    "le = LabelEncoder()\n",
    "df[\"Gender\"] = le.fit_transform(df[\"Gender\"])\n",
    "df[\"Response\"] = le.fit_transform(df[\"Response\"])\n",
    "df[\"Phone Type\"] = le.fit_transform(df[\"Phone Type\"])\n",
    "df[\"Current Bike\"] = le.fit_transform(df[\"Current Bike\"])"
   ]
  },
  {
   "cell_type": "code",
   "execution_count": 8,
   "id": "b3f9af93",
   "metadata": {},
   "outputs": [
    {
     "data": {
      "text/html": [
       "<div>\n",
       "<style scoped>\n",
       "    .dataframe tbody tr th:only-of-type {\n",
       "        vertical-align: middle;\n",
       "    }\n",
       "\n",
       "    .dataframe tbody tr th {\n",
       "        vertical-align: top;\n",
       "    }\n",
       "\n",
       "    .dataframe thead th {\n",
       "        text-align: right;\n",
       "    }\n",
       "</style>\n",
       "<table border=\"1\" class=\"dataframe\">\n",
       "  <thead>\n",
       "    <tr style=\"text-align: right;\">\n",
       "      <th></th>\n",
       "      <th>ID</th>\n",
       "      <th>Age</th>\n",
       "      <th>Gender</th>\n",
       "      <th>Occupation</th>\n",
       "      <th>Phone Type</th>\n",
       "      <th>Current Bike</th>\n",
       "      <th>Relationship</th>\n",
       "      <th>Response</th>\n",
       "    </tr>\n",
       "  </thead>\n",
       "  <tbody>\n",
       "    <tr>\n",
       "      <th>0</th>\n",
       "      <td>1</td>\n",
       "      <td>53</td>\n",
       "      <td>1</td>\n",
       "      <td>Professional</td>\n",
       "      <td>0</td>\n",
       "      <td>1</td>\n",
       "      <td>Complicated</td>\n",
       "      <td>0</td>\n",
       "    </tr>\n",
       "    <tr>\n",
       "      <th>1</th>\n",
       "      <td>2</td>\n",
       "      <td>27</td>\n",
       "      <td>0</td>\n",
       "      <td>Self Employed</td>\n",
       "      <td>2</td>\n",
       "      <td>4</td>\n",
       "      <td>Single</td>\n",
       "      <td>1</td>\n",
       "    </tr>\n",
       "    <tr>\n",
       "      <th>2</th>\n",
       "      <td>3</td>\n",
       "      <td>39</td>\n",
       "      <td>0</td>\n",
       "      <td>Unemployed</td>\n",
       "      <td>0</td>\n",
       "      <td>1</td>\n",
       "      <td>Married</td>\n",
       "      <td>0</td>\n",
       "    </tr>\n",
       "    <tr>\n",
       "      <th>3</th>\n",
       "      <td>4</td>\n",
       "      <td>20</td>\n",
       "      <td>0</td>\n",
       "      <td>Unemployed</td>\n",
       "      <td>1</td>\n",
       "      <td>4</td>\n",
       "      <td>Married</td>\n",
       "      <td>0</td>\n",
       "    </tr>\n",
       "    <tr>\n",
       "      <th>4</th>\n",
       "      <td>5</td>\n",
       "      <td>29</td>\n",
       "      <td>1</td>\n",
       "      <td>Student</td>\n",
       "      <td>0</td>\n",
       "      <td>1</td>\n",
       "      <td>Complicated</td>\n",
       "      <td>1</td>\n",
       "    </tr>\n",
       "  </tbody>\n",
       "</table>\n",
       "</div>"
      ],
      "text/plain": [
       "   ID  Age  Gender     Occupation  Phone Type  Current Bike Relationship  \\\n",
       "0   1   53       1   Professional           0             1  Complicated   \n",
       "1   2   27       0  Self Employed           2             4       Single   \n",
       "2   3   39       0     Unemployed           0             1      Married   \n",
       "3   4   20       0     Unemployed           1             4      Married   \n",
       "4   5   29       1        Student           0             1  Complicated   \n",
       "\n",
       "   Response  \n",
       "0         0  \n",
       "1         1  \n",
       "2         0  \n",
       "3         0  \n",
       "4         1  "
      ]
     },
     "execution_count": 8,
     "metadata": {},
     "output_type": "execute_result"
    }
   ],
   "source": [
    "df.head()"
   ]
  },
  {
   "cell_type": "code",
   "execution_count": 9,
   "id": "fb67d48b",
   "metadata": {},
   "outputs": [],
   "source": [
    "#One hot encoding\n",
    "df[[\"Student\", \"Unemployed\", \"Self Employed\"]] = pd.get_dummies(df[\"Occupation\"], drop_first= True)\n",
    "df[[\"Single\", \"Married\", \"Complicated\"]] = pd.get_dummies(df[\"Relationship\"], drop_first= True)\n",
    "\n"
   ]
  },
  {
   "cell_type": "code",
   "execution_count": 10,
   "id": "f7e82335",
   "metadata": {},
   "outputs": [],
   "source": [
    "df.drop([\"Occupation\",\"Relationship\"],axis=1,inplace=True)"
   ]
  },
  {
   "cell_type": "code",
   "execution_count": 11,
   "id": "0006fa81",
   "metadata": {},
   "outputs": [],
   "source": [
    "X = df.drop([\"ID\",\"Response\"],axis=1,)\n",
    "y = df[\"Response\"]"
   ]
  },
  {
   "cell_type": "code",
   "execution_count": 12,
   "id": "abbf9123",
   "metadata": {},
   "outputs": [],
   "source": [
    "#Train test table\n",
    "\n",
    "X_train,X_test,y_train,y_test = train_test_split(X,y,test_size=0.2,random_state= 5)"
   ]
  },
  {
   "cell_type": "code",
   "execution_count": 13,
   "id": "47566169",
   "metadata": {},
   "outputs": [
    {
     "data": {
      "text/plain": [
       "(1214, 10)"
      ]
     },
     "execution_count": 13,
     "metadata": {},
     "output_type": "execute_result"
    }
   ],
   "source": [
    "X_train.shape"
   ]
  },
  {
   "cell_type": "code",
   "execution_count": 14,
   "id": "db20bf90",
   "metadata": {},
   "outputs": [
    {
     "data": {
      "text/plain": [
       "(304, 10)"
      ]
     },
     "execution_count": 14,
     "metadata": {},
     "output_type": "execute_result"
    }
   ],
   "source": [
    "X_test.shape"
   ]
  },
  {
   "cell_type": "code",
   "execution_count": 15,
   "id": "f1697ee7",
   "metadata": {},
   "outputs": [
    {
     "name": "stderr",
     "output_type": "stream",
     "text": [
      "C:\\Users\\celestin jacob\\anaconda3\\lib\\site-packages\\sklearn\\linear_model\\_logistic.py:763: ConvergenceWarning: lbfgs failed to converge (status=1):\n",
      "STOP: TOTAL NO. of ITERATIONS REACHED LIMIT.\n",
      "\n",
      "Increase the number of iterations (max_iter) or scale the data as shown in:\n",
      "    https://scikit-learn.org/stable/modules/preprocessing.html\n",
      "Please also refer to the documentation for alternative solver options:\n",
      "    https://scikit-learn.org/stable/modules/linear_model.html#logistic-regression\n",
      "  n_iter_i = _check_optimize_result(\n"
     ]
    },
    {
     "data": {
      "text/plain": [
       "LogisticRegression()"
      ]
     },
     "execution_count": 15,
     "metadata": {},
     "output_type": "execute_result"
    }
   ],
   "source": [
    "#Model Building\n",
    "\n",
    "lor = LogisticRegression()\n",
    "lor.fit(X_train,y_train)"
   ]
  },
  {
   "cell_type": "code",
   "execution_count": 16,
   "id": "12bf8313",
   "metadata": {},
   "outputs": [],
   "source": [
    "lor_predict = lor.predict(X_train)"
   ]
  },
  {
   "cell_type": "code",
   "execution_count": 18,
   "id": "f18d9316",
   "metadata": {},
   "outputs": [
    {
     "data": {
      "text/plain": [
       "0.7742998352553542"
      ]
     },
     "execution_count": 18,
     "metadata": {},
     "output_type": "execute_result"
    }
   ],
   "source": [
    "accuracy_score(y_train,lor_predict)\n"
   ]
  },
  {
   "cell_type": "code",
   "execution_count": 19,
   "id": "9c9a82bf",
   "metadata": {},
   "outputs": [
    {
     "data": {
      "text/plain": [
       "0.8289473684210527"
      ]
     },
     "execution_count": 19,
     "metadata": {},
     "output_type": "execute_result"
    }
   ],
   "source": [
    "accuracy_score(y_test,lor.predict(X_test))"
   ]
  },
  {
   "cell_type": "code",
   "execution_count": 21,
   "id": "5225802e",
   "metadata": {},
   "outputs": [
    {
     "data": {
      "text/plain": [
       "array([[387, 134],\n",
       "       [140, 553]], dtype=int64)"
      ]
     },
     "execution_count": 21,
     "metadata": {},
     "output_type": "execute_result"
    }
   ],
   "source": [
    "confusion_matrix(y_train,lor_predict)"
   ]
  },
  {
   "cell_type": "code",
   "execution_count": 22,
   "id": "c7ba00eb",
   "metadata": {},
   "outputs": [
    {
     "data": {
      "text/plain": [
       "array([[104,  21],\n",
       "       [ 31, 148]], dtype=int64)"
      ]
     },
     "execution_count": 22,
     "metadata": {},
     "output_type": "execute_result"
    }
   ],
   "source": [
    "confusion_matrix(y_test,lor.predict(X_test))"
   ]
  },
  {
   "cell_type": "code",
   "execution_count": 28,
   "id": "2354b94d",
   "metadata": {},
   "outputs": [
    {
     "ename": "ValueError",
     "evalue": "x is neither increasing nor decreasing : [0 1 1 ... 0 1 0].",
     "output_type": "error",
     "traceback": [
      "\u001b[1;31m---------------------------------------------------------------------------\u001b[0m",
      "\u001b[1;31mValueError\u001b[0m                                Traceback (most recent call last)",
      "\u001b[1;32mC:\\Users\\CELEST~1\\AppData\\Local\\Temp/ipykernel_14196/1890102041.py\u001b[0m in \u001b[0;36m<module>\u001b[1;34m\u001b[0m\n\u001b[1;32m----> 1\u001b[1;33m \u001b[0mauc\u001b[0m\u001b[1;33m(\u001b[0m\u001b[0my_train\u001b[0m\u001b[1;33m,\u001b[0m\u001b[0mlor_predict\u001b[0m\u001b[1;33m)\u001b[0m\u001b[1;33m\u001b[0m\u001b[1;33m\u001b[0m\u001b[0m\n\u001b[0m",
      "\u001b[1;32m~\\anaconda3\\lib\\site-packages\\sklearn\\metrics\\_ranking.py\u001b[0m in \u001b[0;36mauc\u001b[1;34m(x, y)\u001b[0m\n\u001b[0;32m     95\u001b[0m             \u001b[0mdirection\u001b[0m \u001b[1;33m=\u001b[0m \u001b[1;33m-\u001b[0m\u001b[1;36m1\u001b[0m\u001b[1;33m\u001b[0m\u001b[1;33m\u001b[0m\u001b[0m\n\u001b[0;32m     96\u001b[0m         \u001b[1;32melse\u001b[0m\u001b[1;33m:\u001b[0m\u001b[1;33m\u001b[0m\u001b[1;33m\u001b[0m\u001b[0m\n\u001b[1;32m---> 97\u001b[1;33m             raise ValueError(\"x is neither increasing nor decreasing \"\n\u001b[0m\u001b[0;32m     98\u001b[0m                              \": {}.\".format(x))\n\u001b[0;32m     99\u001b[0m \u001b[1;33m\u001b[0m\u001b[0m\n",
      "\u001b[1;31mValueError\u001b[0m: x is neither increasing nor decreasing : [0 1 1 ... 0 1 0]."
     ]
    }
   ],
   "source": [
    "auc(y_train,lor_predict)"
   ]
  },
  {
   "cell_type": "code",
   "execution_count": null,
   "id": "c742e777",
   "metadata": {},
   "outputs": [],
   "source": []
  }
 ],
 "metadata": {
  "kernelspec": {
   "display_name": "Python 3 (ipykernel)",
   "language": "python",
   "name": "python3"
  },
  "language_info": {
   "codemirror_mode": {
    "name": "ipython",
    "version": 3
   },
   "file_extension": ".py",
   "mimetype": "text/x-python",
   "name": "python",
   "nbconvert_exporter": "python",
   "pygments_lexer": "ipython3",
   "version": "3.9.7"
  }
 },
 "nbformat": 4,
 "nbformat_minor": 5
}
